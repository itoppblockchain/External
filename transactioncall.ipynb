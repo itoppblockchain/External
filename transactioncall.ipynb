{
 "cells": [
  {
   "cell_type": "markdown",
   "metadata": {},
   "source": [
    "ledger variable is to be set to address of the API that connects to the blockchain\n",
    "\n",
    "Example function calls:\n",
    "\n",
    "queryAllTRU args = [] vals = []\n",
    "\n",
    "queryTRU, TRUID: the ID of the TRU. args = [\"TRUID\"] vals = [\"TRU3\"]\n",
    "\n",
    "searchTRU, LocalID: Local ID of the TRU. args = [\"LocalID\"] vals = [\"00003\"]\n",
    "\n",
    "createTRU TRU Details, ORGID: organization who creates the TRU args = [\"GTIN\",\"Quantity\",\"BatchNumber\",\"LocalID\",\"TRUExpiryDate\",\"CoCID\",\"TraceHash\",\"CoCHash\",\"ReleaseFlag\",\"RequestFlag\",\"PaymentPeriod\",\"ORGID\"] vals =[\"F0210.1.1000001\",\"200\",\"1750\",\"00004\",\"17-05-2025\",\"std1002\",\"NA\",\"NA\",\"ORG1\",\"NA\",\"30\",\"ORG1\"]\n",
    "\n",
    "splitTRU, TRUID: Existing TRU to be splitted, the quantıty for split TRU, LocalID: Local ID to be assigned to splitted batch, ORGID: the owner of TRU args = [\"TRUID\",\"Quantity\",\"LocalID\",\"ORGID\"] vals = [\"TRU3\",\"10\",\"00004\",\"ORG1\"]\n",
    "\n",
    "updateTRU TRUID: The TRU to be updated, PropName: the attribute to be updated(BatchNumber,LocalID,CoC,ExpiryDate,ReleaseFlag,PaymentPerıod) PropValue: The new value of the attribute, ORGID: the owner of TRU args = [\"TRUID\",\"PropName\",\"PropValue\",\"ORGID\"] vals = [\"TRU6\",\"CoC\",\"151v2Std\",\"ORG1\"],\n",
    "\n",
    "updateTRU, PropName, PropValue\n",
    "\n",
    "Ship: ReleaseFlag, Destinationorg\n",
    "\n",
    "Payment Period update: PaymentPeriod, new period\n",
    "\n",
    "Use: Quantity, new quantity\n",
    "\n",
    "LocalID change: LocalID, new localid \n",
    "\n",
    "changeOWN OWNER : current owner, TRUID: TRU, ORGID: The organization getting the ownership /TRU shouldbe released before args = [\"OWNER\",\"TRUID\",\"ORGID\"] vals = [\"ORG1\",\"TRU3\",\"ORG3\"]\n",
    "\n",
    "queryTRACE TRUID: The trace of the TRU, ORGID: The owner of the trace args = [\"TRUID\",\"ORGID\"] vals = [\"TRU6\",\"ORG1\"]\n",
    "\n",
    "querySCA ORGID: The orgid of the organization\n",
    "args = [\"ORGID\"] vals = [\"ORG1\"]"
   ]
  },
  {
   "cell_type": "code",
   "execution_count": null,
   "metadata": {},
   "outputs": [],
   "source": [
    "import requests\n",
    "\n",
    "ledger = \"https://localhost:443\"\n",
    "\n",
    "function = \"splitTRU\"\n",
    "args = [\"TRUID\",\"Quantity\",\"LocalID\",\"ORGID\"]\n",
    "vals = [\"TRU3\",\"10\",\"00006\",\"ORG3\"]\n",
    "\n",
    "url = ledger + \"/\" + function"
   ]
  },
  {
   "cell_type": "code",
   "execution_count": null,
   "metadata": {},
   "outputs": [],
   "source": [
    "if function == \"queryAllTRU\":\n",
    "    payload={}\n",
    "    headers={}\n",
    "    response=requests.request(\"GET\", url, headers=headers,data=payload)\n",
    "    print(response.text)"
   ]
  },
  {
   "cell_type": "code",
   "execution_count": null,
   "metadata": {
    "scrolled": true
   },
   "outputs": [],
   "source": [
    "if (function == \"queryTRU\") or  (function == \"splitTRU\") or (function == \"createTRU\")  or  (function == \"updateTRU\") or  (function == \"searchTRU\") or  (function == \"changeOWN\") or  (function == \"queryTRACE\") or  (function == \"querySCA\"):\n",
    "    url = ledger + \"/\" + function\n",
    "    payload = \"{\"\n",
    "    for i in range (0,len(args)):\n",
    "            payload = payload + \"\\\"\" + args[i] + \"\\\"\" + \":\" + \"\\\"\" + vals[i] + \"\\\"\" \n",
    "            if (i != len(args)-1) :\n",
    "                payload = payload + \",\"\n",
    "    payload = payload + \"}\"\n",
    "    print(payload)\n",
    "    headers={\n",
    "        'Content-Type' : 'application/json'\n",
    "    }\n",
    "    response=requests.request(\"POST\", url, headers=headers,data=payload)\n",
    "    print(response.text)"
   ]
  },
  {
   "cell_type": "code",
   "execution_count": null,
   "metadata": {},
   "outputs": [],
   "source": [
    "else:\n",
    "    print(\"No such function\")"
   ]
  }
 ],
 "metadata": {
  "kernelspec": {
   "display_name": "Python 3",
   "language": "python",
   "name": "python3"
  },
  "language_info": {
   "codemirror_mode": {
    "name": "ipython",
    "version": 3
   },
   "file_extension": ".py",
   "mimetype": "text/x-python",
   "name": "python",
   "nbconvert_exporter": "python",
   "pygments_lexer": "ipython3",
   "version": "3.7.1"
  }
 },
 "nbformat": 4,
 "nbformat_minor": 2
}
